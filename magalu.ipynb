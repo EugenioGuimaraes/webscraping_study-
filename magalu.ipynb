{
 "cells": [
  {
   "cell_type": "code",
   "execution_count": null,
   "metadata": {},
   "outputs": [],
   "source": [
    "pip install requests"
   ]
  },
  {
   "cell_type": "code",
   "execution_count": null,
   "metadata": {},
   "outputs": [],
   "source": [
    "pip install beautifulsoup4"
   ]
  },
  {
   "cell_type": "code",
   "execution_count": null,
   "metadata": {},
   "outputs": [],
   "source": [
    "import requests\n",
    "from bs4 import BeautifulSoup\n",
    "\n",
    "url = 'https://www.magazineluiza.com.br/busca/geladeira/?from=submit'\n",
    "headers={\n",
    "        \"User-Agent\": \"Mozilla/5.0 (Windows NT 10.0; Win64; x64) AppleWebKit/537.36 (KHTML, like Gecko) Chrome/128.0.0.0 Safari/537.36\",\n",
    "        \"cookie\" : 'MLPARCEIRO=1957; noe_freight=AUTO; noe_hub_shipping_enabled=1; toggle_wishlist=false; FCCDCF=1; ml2_redirect_8020=0; FCNEC=1; mixer_shipping=AUTO; mixer_hub_shipping=true; toggle_pdp_seller_score=true; toggle_vwo=true; toggle_agatha=true; toggle_ads=true; toggle_new_service_page=true; toggle_search_ads=true; __spdt=e52d32ac2e724eacb459b9fd0adcfa74; __ssds=3; __rtbh.lid=%7B%22eventType%22%3A%22lid%22%2C%22id%22%3A%22mz97Mmo1GvI8awDCEeWx%22%7D; __ssuzjsr3=a9be0cd8e; __uzmaj3=b4e9a6d9-63dd-46f2-9254-1acc88967303; __uzmbj3=1725468707; _gcl_au=1.1.1531583586.1725468707; __gtm_campaign_url=https%3A%2F%2Fwww.magazineluiza.com.br%2F%3Futm_source%3Dbing%26utm_medium%3Dcpc%26utm_campaign%3Dbing_eco_per_ven_pes_none_sor_4p_branding%26partner_id%3D1957%26utm_term%3D1957%26%26gclid%3Dd7b4221228cd1c4e58f644cab8ed19ac%26gclsrc%3D3p.ds%26msclkid%3Dd7b4221228cd1c4e58f644cab8ed19ac%26gclid%3Dd7b4221228cd1c4e58f644cab8ed19ac%26gclsrc%3D3p.ds; __gtm_referrer=https%3A%2F%2Fwww.bing.com%2F; __ctodedup=other; _vwo_uuid_v2=DDEE72B4B2E2C5B6A8E46B8AA76A24E2B|be26059291e0ed4220dafe625042b2b8; _tt_enable_cookie=1; _ttp=7WQ_428J-cyBxeMM5zqOQ3eoWQi; _vwo_uuid=DDEE72B4B2E2C5B6A8E46B8AA76A24E2B; _vwo_ds=3%241725468707%3A69.08481964%3A%3A; _vis_opt_s=1%7C; _vis_opt_test_cookie=1; ml_tid=5119b50e-562a-4c0b-85af-f3b74d09b051; __bid=9080efab-1c97-4110-9a1a-53b468f0398f; __btgUtms=&utmSource=bing&utmMedium=cpc&utmCampaign=bing_eco_per_ven_pes_none_sor_4p_branding&utmTerm=1957; __rtbh.uid=%7B%22eventType%22%3A%22uid%22%2C%22id%22%3A%22unknown%22%7D; _fbp=fb.2.1725468708303.597493863403332150; _gcl_dc=GCL.1725468708.d7b4221228cd1c4e58f644cab8ed19ac; _hjSessionUser_4936838=eyJpZCI6Ijc3ZmUzYmJhLWJkYWMtNWIyYS1hYTk2LWI1MmVkODM2ZDMxMyIsImNyZWF0ZWQiOjE3MjU0Njg3MDg1NDEsImV4aXN0aW5nIjpmYWxzZX0=; _hjSession_4936838=eyJpZCI6IjgyMTlhNzIxLWUwMTctNDI2OC04YmZhLTZjNjM5OGMxZDk2OCIsImMiOjE3MjU0Njg3MDg1NDQsInMiOjAsInIiOjAsInNiIjowLCJzciI6MCwic2UiOjAsImZzIjoxLCJzcCI6MH0=; _pin_unauth=dWlkPU1qVXlZbU14TVRrdE5qQmlZUzAwWkRObUxUazVNRE10WTJKa1pERTBOMkl3T0RNMw; __uzma=af4c57b4-9a7a-4df3-8ee8-149901d70823; __uzmb=1725468708; __uzme=0876; stwu=temp_f9fb7e20-6add-11ef-acd2-570eac789e29; stwt=1; _gid=GA1.3.884707215.1725468709; _scid=8a1c3886-5247-48d5-a604-854941ba69d7; _clck=1bd3n4p%7C2%7Cfow%7C0%7C1708; _ScCbts=%5B%5D; __privaci_cookie_consent_uuid=7bf2ab6f-d2ff-4ee6-a3fc-33b4246d28f0:13; __privaci_cookie_consent_generated=7bf2ab6f-d2ff-4ee6-a3fc-33b4246d28f0:13; __privaci_cookie_consents={\"consents\":{\"1\":1,\"2\":1,\"3\":1,\"4\":1,\"6\":1},\"location\":\"SP#BR\",\"lang\":\"pt-br\",\"gpcInBrowserOnConsent\":false,\"gpcStatusInPortalOnConsent\":false,\"status\":\"record-consent-success\",\"implicit_consent\":true}; __privaci_latest_published_version=9; cookie_reject_zipcode_popup=true; storedSessionIdLCJ5VBTH8V=1725468708; GTMUtmTimestamp=1725468712462; GTMUtmSource=bing; GTMUtmMedium=cpc; GTMUtmCampaign=bing_eco_per_ven_pes_none_sor_4p_branding; GTMUtmTerm=1957; GTMPartnerId=1957; GTMIsTrueDirect=0; search_attribution_token=null; _gat_UA-42817937-2=1; __uzmc=367572261889; __uzmd=1725469283; az_asm=l5XVClHGsM66xzwtRBJqxccpuBmEHAoSo/nfvDe0yqNwJk8D/VBVrydc4lov9r9Fg9J4eRenEzTMKF1e; az_botm=762d4fc955ecbbc592395efbd435fa9d; __uzmcj3=279501623751; __uzmdj3=1725469285; _ga_C98RVP2QRJ=GS1.1.1725468708.1.1.1725469289.38.0.0; _ga_LCJ5VBTH8V=GS1.1.1725468708.1.1.1725469289.38.0.0; _ga=GA1.3.1601075518.1725468708; _scid_r=8a1c3886-5247-48d5-a604-854941ba69d7; _uetsid=fa3607906add11efaca7c75631990ee5; _uetvid=fa3652c06add11efb2cde58a3bc45f17; _uetmsclkid=_uetd7b4221228cd1c4e58f644cab8ed19ac; _vwo_sn=0%3A4%3A%3A%3A1; cto_bundle=J49SbF9mZXhRTEdyNlM3JTJGbCUyRklvSDJnJTJCSzFJJTJGSkVxbkJRS2RtTVc1ZVZJSzEzY3NNcjVQSFdsJTJGSHdmaWtTTURvSEJpZWkxUjlmNmtEZk1lbHhZWGxaQlRRYjh0WFElMkJ2cWFjWEglMkI1c2JYbiUyQmtCUmtOTWpDMmthODgwY0lWJTJCWnF3OU43T0p3JTJCZmZ6dVRqOEVmWDUlMkI4MjZqdXJBc2FxNFM2UUJEcSUyQm90bno0ZVklMkJPMCUzRA; _clsk=8gu3ri%7C1725469291483%7C4%7C0%7Cs.clarity.ms%2Fcollect'\n",
    "    }\n",
    "\n",
    "response = requests.get(url, headers=headers)\n",
    "soup = BeautifulSoup(response.text, 'html.parser')\n",
    "\n",
    "print(soup.prettify())\n"
   ]
  },
  {
   "cell_type": "code",
   "execution_count": null,
   "metadata": {},
   "outputs": [],
   "source": [
    "items = soup.find_all(\"li\", attrs={\"class\" : \"sc-CCtys ddCamx\"})\n",
    "\n",
    "\n",
    "for item in items:\n",
    "    div = item.find_all('div', class_='sc-eWHaVC eAnweT')\n",
    "    print(div)"
   ]
  },
  {
   "cell_type": "code",
   "execution_count": null,
   "metadata": {},
   "outputs": [],
   "source": [
    "items = soup.find_all('li', attrs={\"class\": \"sc-CCtys ddCamx\"})\n",
    "\n",
    "for item in items:\n",
    "    specific_divs = item.find_all('div', attrs={\"class\": 'sc-eWHaVC eAnweT'})\n",
    "    for specific_div in specific_divs:\n",
    "        h2_tag = specific_div.find('h2')\n",
    "        if h2_tag:\n",
    "            print(h2_tag.get_text())"
   ]
  },
  {
   "cell_type": "code",
   "execution_count": null,
   "metadata": {},
   "outputs": [],
   "source": [
    "import json\n",
    "\n",
    "\n",
    "data = []\n",
    "items = soup.find_all('li', attrs={\"class\": \"sc-CCtys ddCamx\"})\n",
    "\n",
    "for item in items:\n",
    "    specific_divs = item.find_all('div', attrs={\"class\": 'sc-eWHaVC eAnweT'})\n",
    "    for specific_div in specific_divs:\n",
    "        price_tag = specific_div.find('div', attrs={\"class\": 'sc-fqkvVR hlqElk sc-hoLEA cHBAPg'})\n",
    "        if price_tag:\n",
    "            print(price_tag.p.get_text())\n",
    "            data.append({\"Price\" : price_tag.p.get_text()})\n",
    "            data.append({\"Price\" : price_tag.p.get_text()})\n",
    "\n",
    "# with open('data.json', 'w', encoding='utf-8') as f:\n",
    "#     json.dump(data, f, ensure_ascii=False, indent=4)"
   ]
  },
  {
   "cell_type": "code",
   "execution_count": 9,
   "metadata": {},
   "outputs": [],
   "source": [
    "import json\n",
    "from bs4 import BeautifulSoup\n",
    "\n",
    "items = soup.find_all('li', attrs={\"class\": \"sc-CCtys ddCamx\"})\n",
    "\n",
    "data = []\n",
    "\n",
    "for item in items:    \n",
    "    specific_divs = item.find_all('div', attrs={\"class\": 'sc-eWHaVC eAnweT'})\n",
    "    for specific_div in specific_divs:\n",
    "        h2_tag = specific_div.find('h2')\n",
    "        price_tag = specific_div.find('div', attrs={\"class\": 'sc-fqkvVR hlqElk sc-hoLEA cHBAPg'})\n",
    "        \n",
    "        item_data = {\"Name\": None, \"Price\": None}\n",
    "        \n",
    "        if h2_tag:\n",
    "            item_data[\"Name\"] = h2_tag.get_text()\n",
    "        \n",
    "        if price_tag:\n",
    "            item_data[\"Price\"] = price_tag.p.get_text()\n",
    "        \n",
    "        data.append(item_data)\n",
    "\n",
    "with open('data.json', 'w', encoding='utf-8') as f:\n",
    "    json.dump(data, f, ensure_ascii=False, indent=4)"
   ]
  }
 ],
 "metadata": {
  "kernelspec": {
   "display_name": "Python 3",
   "language": "python",
   "name": "python3"
  },
  "language_info": {
   "codemirror_mode": {
    "name": "ipython",
    "version": 3
   },
   "file_extension": ".py",
   "mimetype": "text/x-python",
   "name": "python",
   "nbconvert_exporter": "python",
   "pygments_lexer": "ipython3",
   "version": "3.11.9"
  }
 },
 "nbformat": 4,
 "nbformat_minor": 2
}
